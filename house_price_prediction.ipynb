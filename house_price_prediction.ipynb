{
 "cells": [
  {
   "cell_type": "markdown",
   "metadata": {},
   "source": [
    "# House Price Prediction"
   ]
  },
  {
   "cell_type": "markdown",
   "metadata": {},
   "source": [
    "Load methods "
   ]
  },
  {
   "cell_type": "code",
   "execution_count": 1,
   "metadata": {},
   "outputs": [],
   "source": [
    "from viz import View\n",
    "v = View()"
   ]
  },
  {
   "cell_type": "markdown",
   "metadata": {},
   "source": [
    "### Analysis of the data"
   ]
  },
  {
   "cell_type": "code",
   "execution_count": 5,
   "metadata": {
    "collapsed": true
   },
   "outputs": [
    {
     "data": {
      "application/vnd.jupyter.widget-view+json": {
       "model_id": "27b671e8c13d4c6694b095554532a8a5",
       "version_major": 2,
       "version_minor": 0
      },
      "text/plain": [
       "interactive(children=(Dropdown(description='Plot Type:', layout=Layout(width='max-content'), options=(('Catego…"
      ]
     },
     "metadata": {},
     "output_type": "display_data"
    }
   ],
   "source": [
    "v.show_data_analysis()"
   ]
  },
  {
   "cell_type": "markdown",
   "metadata": {},
   "source": [
    "### Show parameters of the regression model with statsmodel"
   ]
  },
  {
   "cell_type": "code",
   "execution_count": 3,
   "metadata": {
    "collapsed": true
   },
   "outputs": [
    {
     "name": "stdout",
     "output_type": "stream",
     "text": [
      "                            OLS Regression Results                            \n",
      "==============================================================================\n",
      "Dep. Variable:              SalePrice   R-squared:                       0.796\n",
      "Model:                            OLS   Adj. R-squared:                  0.794\n",
      "Method:                 Least Squares   F-statistic:                     466.5\n",
      "Date:                Tue, 25 May 2021   Prob (F-statistic):          9.88e-324\n",
      "Time:                        10:23:53   Log-Likelihood:                -10978.\n",
      "No. Observations:                 965   AIC:                         2.197e+04\n",
      "Df Residuals:                     956   BIC:                         2.202e+04\n",
      "Df Model:                           8                                         \n",
      "Covariance Type:            nonrobust                                         \n",
      "================================================================================\n",
      "                   coef    std err          t      P>|t|      [0.025      0.975]\n",
      "--------------------------------------------------------------------------------\n",
      "const        -1.242e+06   8.44e+04    -14.728      0.000   -1.41e+06   -1.08e+06\n",
      "LotArea          2.3417      0.276      8.494      0.000       1.801       2.883\n",
      "OverallQual   1.487e+04    914.011     16.271      0.000    1.31e+04    1.67e+04\n",
      "YearBuilt      267.7170     39.307      6.811      0.000     190.579     344.855\n",
      "YearRemodAdd   356.4911     46.567      7.655      0.000     265.106     447.876\n",
      "GrLivArea       50.6515      3.493     14.500      0.000      43.796      57.507\n",
      "TotRmsAbvGrd -4132.6665    870.467     -4.748      0.000   -5840.913   -2424.420\n",
      "Fireplaces    6351.7373   1247.973      5.090      0.000    3902.655    8800.820\n",
      "GarageArea      32.7892      5.065      6.473      0.000      22.849      42.730\n",
      "==============================================================================\n",
      "Omnibus:                       73.259   Durbin-Watson:                   2.065\n",
      "Prob(Omnibus):                  0.000   Jarque-Bera (JB):              135.500\n",
      "Skew:                           0.512   Prob(JB):                     3.77e-30\n",
      "Kurtosis:                       4.524   Cond. No.                     1.29e+06\n",
      "==============================================================================\n",
      "\n",
      "Notes:\n",
      "[1] Standard Errors assume that the covariance matrix of the errors is correctly specified.\n",
      "[2] The condition number is large, 1.29e+06. This might indicate that there are\n",
      "strong multicollinearity or other numerical problems.\n"
     ]
    }
   ],
   "source": [
    "v.show_stats_model_info()"
   ]
  },
  {
   "cell_type": "markdown",
   "metadata": {},
   "source": [
    "### Display different regression models"
   ]
  },
  {
   "cell_type": "code",
   "execution_count": 4,
   "metadata": {
    "collapsed": true
   },
   "outputs": [
    {
     "data": {
      "application/vnd.jupyter.widget-view+json": {
       "model_id": "bc9b98fb065949d0b1a8d087ddd3bf01",
       "version_major": 2,
       "version_minor": 0
      },
      "text/plain": [
       "interactive(children=(Dropdown(description='Model:', layout=Layout(width='max-content'), options=(('Linear Reg…"
      ]
     },
     "metadata": {},
     "output_type": "display_data"
    }
   ],
   "source": [
    "v.display_model()"
   ]
  },
  {
   "cell_type": "markdown",
   "metadata": {},
   "source": [
    "### Make predictions"
   ]
  },
  {
   "cell_type": "markdown",
   "metadata": {},
   "source": [
    " **Notice**:\n",
    "\n",
    "__OverallQual__: Rates the overall material and finish of the house\n",
    "- 8\tVery Good\n",
    "- 7\tGood\n",
    "- 6\tAbove Average\n",
    "- 5\tAverage\n",
    "- 4\tBelow Average\n",
    "    \n",
    "__TotRmsAbvGrd__: Total rooms above grade (does not include bathrooms)\n",
    "\n",
    "__LotArea__: Lot size in square feet"
   ]
  },
  {
   "cell_type": "code",
   "execution_count": 6,
   "metadata": {
    "collapsed": true
   },
   "outputs": [
    {
     "data": {
      "application/vnd.jupyter.widget-view+json": {
       "model_id": "4fdad7413e884656bf0885bceb397f21",
       "version_major": 2,
       "version_minor": 0
      },
      "text/plain": [
       "interactive(children=(Dropdown(description='Model:', layout=Layout(width='max-content'), options=(('Linear Reg…"
      ]
     },
     "metadata": {},
     "output_type": "display_data"
    },
    {
     "data": {
      "application/vnd.jupyter.widget-view+json": {
       "model_id": "91d286649b1e4bd581a612e44fb37cd2",
       "version_major": 2,
       "version_minor": 0
      },
      "text/plain": [
       "interactive(children=(IntSlider(value=1476, description='LotArea', max=16770, min=1476), IntSlider(value=4, de…"
      ]
     },
     "metadata": {},
     "output_type": "display_data"
    }
   ],
   "source": [
    "v.display_house_price_prediction()"
   ]
  },
  {
   "cell_type": "code",
   "execution_count": null,
   "metadata": {
    "collapsed": true
   },
   "outputs": [],
   "source": []
  }
 ],
 "metadata": {
  "kernelspec": {
   "display_name": "Python 3",
   "language": "python",
   "name": "python3"
  },
  "language_info": {
   "codemirror_mode": {
    "name": "ipython",
    "version": 3
   },
   "file_extension": ".py",
   "mimetype": "text/x-python",
   "name": "python",
   "nbconvert_exporter": "python",
   "pygments_lexer": "ipython3",
   "version": "3.8.5"
  },
  "toc": {
   "base_numbering": 1,
   "nav_menu": {},
   "number_sections": true,
   "sideBar": true,
   "skip_h1_title": true,
   "title_cell": "Table of Contents",
   "title_sidebar": "Contents",
   "toc_cell": false,
   "toc_position": {},
   "toc_section_display": true,
   "toc_window_display": true
  }
 },
 "nbformat": 4,
 "nbformat_minor": 4
}
