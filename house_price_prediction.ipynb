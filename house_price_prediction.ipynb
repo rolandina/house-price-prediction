{
 "cells": [
  {
   "cell_type": "markdown",
   "metadata": {},
   "source": [
    "# House Price Prediction"
   ]
  },
  {
   "cell_type": "markdown",
   "metadata": {},
   "source": [
    "Load methods "
   ]
  },
  {
   "cell_type": "code",
   "execution_count": 1,
   "metadata": {},
   "outputs": [],
   "source": [
    "from viz import View\n",
    "v = View()"
   ]
  },
  {
   "cell_type": "markdown",
   "metadata": {},
   "source": [
    "### Analysis of the data"
   ]
  },
  {
   "cell_type": "code",
   "execution_count": 2,
   "metadata": {},
   "outputs": [
    {
     "data": {
      "application/vnd.jupyter.widget-view+json": {
       "model_id": "19255400dfd14c7b9a5d8fb3488764dc",
       "version_major": 2,
       "version_minor": 0
      },
      "text/plain": [
       "interactive(children=(Dropdown(description='Plot Type:', layout=Layout(width='max-content'), options=(('Catego…"
      ]
     },
     "metadata": {},
     "output_type": "display_data"
    }
   ],
   "source": [
    "v.show_data_analysis()"
   ]
  },
  {
   "cell_type": "markdown",
   "metadata": {},
   "source": [
    "### Show parameters of the regression model with statsmodel"
   ]
  },
  {
   "cell_type": "code",
   "execution_count": 3,
   "metadata": {},
   "outputs": [
    {
     "name": "stdout",
     "output_type": "stream",
     "text": [
      "                            OLS Regression Results                            \n",
      "==============================================================================\n",
      "Dep. Variable:              SalePrice   R-squared:                       0.770\n",
      "Model:                            OLS   Adj. R-squared:                  0.769\n",
      "Method:                 Least Squares   F-statistic:                     692.9\n",
      "Date:                Tue, 25 May 2021   Prob (F-statistic):               0.00\n",
      "Time:                        14:59:56   Log-Likelihood:                -17472.\n",
      "No. Observations:                1460   AIC:                         3.496e+04\n",
      "Df Residuals:                    1452   BIC:                         3.500e+04\n",
      "Df Model:                           7                                         \n",
      "Covariance Type:            nonrobust                                         \n",
      "================================================================================\n",
      "                   coef    std err          t      P>|t|      [0.025      0.975]\n",
      "--------------------------------------------------------------------------------\n",
      "const        -1.282e+06   1.21e+05    -10.569      0.000   -1.52e+06   -1.04e+06\n",
      "LotArea          0.7206      0.107      6.755      0.000       0.511       0.930\n",
      "OverallQual   2.123e+04   1180.610     17.984      0.000    1.89e+04    2.35e+04\n",
      "YearBuilt      316.0349     46.934      6.734      0.000     223.969     408.101\n",
      "YearRemodAdd   302.0724     64.037      4.717      0.000     176.458     427.687\n",
      "GrLivArea       47.1898      2.654     17.783      0.000      41.984      52.395\n",
      "Fireplaces    1.066e+04   1822.831      5.850      0.000    7087.891    1.42e+04\n",
      "GarageArea      53.1184      6.070      8.750      0.000      41.211      65.026\n",
      "==============================================================================\n",
      "Omnibus:                      446.187   Durbin-Watson:                   1.994\n",
      "Prob(Omnibus):                  0.000   Jarque-Bera (JB):            32489.595\n",
      "Skew:                           0.483   Prob(JB):                         0.00\n",
      "Kurtosis:                      26.090   Cond. No.                     1.78e+06\n",
      "==============================================================================\n",
      "\n",
      "Notes:\n",
      "[1] Standard Errors assume that the covariance matrix of the errors is correctly specified.\n",
      "[2] The condition number is large, 1.78e+06. This might indicate that there are\n",
      "strong multicollinearity or other numerical problems.\n"
     ]
    }
   ],
   "source": [
    "v.show_stats_model_info()"
   ]
  },
  {
   "cell_type": "markdown",
   "metadata": {},
   "source": [
    "### Display different regression models"
   ]
  },
  {
   "cell_type": "code",
   "execution_count": 4,
   "metadata": {},
   "outputs": [
    {
     "data": {
      "application/vnd.jupyter.widget-view+json": {
       "model_id": "c36d58d735f74fe6bc12beae22d3ae86",
       "version_major": 2,
       "version_minor": 0
      },
      "text/plain": [
       "interactive(children=(Dropdown(description='Model:', layout=Layout(width='max-content'), options=(('Linear Reg…"
      ]
     },
     "metadata": {},
     "output_type": "display_data"
    }
   ],
   "source": [
    "v.display_model()"
   ]
  },
  {
   "cell_type": "markdown",
   "metadata": {},
   "source": [
    "### Make predictions"
   ]
  },
  {
   "cell_type": "markdown",
   "metadata": {},
   "source": [
    " **Notice**:\n",
    "\n",
    "__OverallQual__: Rates the overall material and finish of the house\n",
    "- 8\tVery Good\n",
    "- 7\tGood\n",
    "- 6\tAbove Average\n",
    "- 5\tAverage\n",
    "- 4\tBelow Average\n",
    "    \n",
    "__TotRmsAbvGrd__: Total rooms above grade (does not include bathrooms)\n",
    "\n",
    "__LotArea__: Lot size in square feet"
   ]
  },
  {
   "cell_type": "code",
   "execution_count": 5,
   "metadata": {},
   "outputs": [
    {
     "data": {
      "application/vnd.jupyter.widget-view+json": {
       "model_id": "8c5b0cbb0878485ea0963c71b1886ac4",
       "version_major": 2,
       "version_minor": 0
      },
      "text/plain": [
       "interactive(children=(Dropdown(description='Model:', layout=Layout(width='max-content'), options=(('Linear Reg…"
      ]
     },
     "metadata": {},
     "output_type": "display_data"
    },
    {
     "data": {
      "application/vnd.jupyter.widget-view+json": {
       "model_id": "08ebccb758a14960b306d1f9a936babe",
       "version_major": 2,
       "version_minor": 0
      },
      "text/plain": [
       "interactive(children=(IntSlider(value=56600, description='LotArea', max=56600, min=1470), IntSlider(value=10, …"
      ]
     },
     "metadata": {},
     "output_type": "display_data"
    }
   ],
   "source": [
    "v.display_house_price_prediction()"
   ]
  },
  {
   "cell_type": "code",
   "execution_count": null,
   "metadata": {},
   "outputs": [],
   "source": []
  }
 ],
 "metadata": {
  "kernelspec": {
   "display_name": "Python 3",
   "language": "python",
   "name": "python3"
  },
  "language_info": {
   "codemirror_mode": {
    "name": "ipython",
    "version": 3
   },
   "file_extension": ".py",
   "mimetype": "text/x-python",
   "name": "python",
   "nbconvert_exporter": "python",
   "pygments_lexer": "ipython3",
   "version": "3.8.5"
  },
  "toc": {
   "base_numbering": 1,
   "nav_menu": {},
   "number_sections": true,
   "sideBar": true,
   "skip_h1_title": true,
   "title_cell": "Table of Contents",
   "title_sidebar": "Contents",
   "toc_cell": false,
   "toc_position": {},
   "toc_section_display": true,
   "toc_window_display": true
  }
 },
 "nbformat": 4,
 "nbformat_minor": 4
}
