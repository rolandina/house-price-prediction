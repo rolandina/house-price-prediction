{
 "cells": [
  {
   "cell_type": "markdown",
   "metadata": {
    "toc": true
   },
   "source": [
    "<h1>Table of Contents<span class=\"tocSkip\"></span></h1>\n",
    "<div class=\"toc\"><ul class=\"toc-item\"></ul></div>"
   ]
  },
  {
   "cell_type": "markdown",
   "metadata": {},
   "source": [
    "**Contexte du projet**\n",
    "\n",
    "1. Recuperer la base de donnée train.csv\n",
    "\n",
    "2. Comprendre la signification de chaque colonne : [kagle: house-price-regression](https://www.kaggle.com/c/house-prices-advanced-regression-techniques/data)\n",
    "\n",
    "3. Créer un notebook avec un titre et importer train.csv dans un dataframe\n",
    "\n",
    "4. Réaliser une analyse exploratoire (moyenne, ecart-type, mediane, identifier les valeurs manquantes, correlations, data visualisation) ==> Privilegier la qualité de l'analyse plutôt que la quantité de cellule executé.\n",
    "\n",
    "5. Faites une regression lineaire avec une feature. Choisir une feature qui n'a pas besoin d'être transformée).\n",
    "\n",
    "6. Faites une regression lineaire avec <mark>statsmodels</mark> et interpreter les résultats.\n",
    "\n",
    "7. Faites une regression lineaire avec sklearn et interpreter les resultats : [<mark>scikit-learn</mark>](https://scikit-learn.org/stable/modules/generated/sklearn.linear_model.LinearRegression.html#sklearn.linear_model.LinearRegression)\n",
    "\n",
    "8. (Objectif) : Réaliser une prediction avec sklearn. Exemple : Prédire le prix d'un logement qui fait 58m2.\n",
    "\n",
    "9. Optionnel level 1 : Separer les données d'entrainement et données de test (test.csv) : https://scikit-learn.org/stable/modules/generated/sklearn.model_selection.train_test_split.html\n",
    "\n",
    "10. Revenir à l'étape 7 et faire un .fit(X_train) avec les données d'entrainement et un .score(X_test) sur les données de test. (cf sklearn).\n",
    "\n",
    "11. Comparer la difference de score entre l'entrainement avec de la fuite de donnée ( .fit(X_train, et un .score(y_train) ) et sans fuite de donnée (.fit(X_train) .score(y_test) interpreter.\n",
    "\n",
    "12. Optionnel Level 2 : Ajouter une feature supplémentaire (qui vous semble pertinante) à votre model pour essayer d'ameliorer les performances de votre model. Vous aurez probablement besoin d'utiliser cet outil de sklearn par exemple : https://scikit-learn.org/stable/modules/generated/sklearn.preprocessing.OneHotEncoder.html\n",
    "\n",
    "13. Optionnel Level 3: Structurer votre code avec par exemple :\n",
    "- Un fichier data.py > avec une methode .get_data()\n",
    "- Un fichier model.py > avec une methode .train()\n",
    "- fichier preprocessing.py > avec une methode .cleaning() et .preprocessing_'colum_name'()\n"
   ]
  },
  {
   "cell_type": "code",
   "execution_count": 1,
   "metadata": {},
   "outputs": [],
   "source": [
    "from viz import *"
   ]
  },
  {
   "cell_type": "code",
   "execution_count": 14,
   "metadata": {},
   "outputs": [
    {
     "name": "stdout",
     "output_type": "stream",
     "text": [
      "abnormal filter\n",
      "create house\n",
      "create list categoric columns\n",
      "create list numeric columns\n",
      "drop columns\n",
      "drop nan rows\n",
      "mean squared error\n",
      "plot categorical features\n",
      "plot numeric features\n",
      "plot res corr\n",
      "predict house price\n",
      "prepare data\n",
      "prepare widgets\n",
      "r2 score\n",
      "remove nan column\n",
      "replace nan\n",
      "show data analysis\n",
      "show model evaluation\n",
      "show model info\n",
      "show plots\n",
      "train test split\n"
     ]
    }
   ],
   "source": [
    "#list_options()\n",
    "\n",
    "import types\n",
    "import viz\n",
    "\n",
    "func = [getattr(viz, a) for a in dir(viz)\n",
    "  if isinstance(getattr(viz, a), types.FunctionType)]\n",
    "for f in func:\n",
    "    print(str(f).split(' ')[1].replace('_', ' '))"
   ]
  },
  {
   "cell_type": "code",
   "execution_count": null,
   "metadata": {
    "scrolled": false
   },
   "outputs": [],
   "source": [
    "show_data_analysis()"
   ]
  },
  {
   "cell_type": "code",
   "execution_count": 2,
   "metadata": {},
   "outputs": [
    {
     "name": "stdout",
     "output_type": "stream",
     "text": [
      "                            OLS Regression Results                            \n",
      "==============================================================================\n",
      "Dep. Variable:              SalePrice   R-squared:                       0.793\n",
      "Model:                            OLS   Adj. R-squared:                  0.791\n",
      "Method:                 Least Squares   F-statistic:                     454.2\n",
      "Date:                Fri, 21 May 2021   Prob (F-statistic):          4.39e-318\n",
      "Time:                        08:59:23   Log-Likelihood:                -10889.\n",
      "No. Observations:                 957   AIC:                         2.180e+04\n",
      "Df Residuals:                     948   BIC:                         2.184e+04\n",
      "Df Model:                           8                                         \n",
      "Covariance Type:            nonrobust                                         \n",
      "================================================================================\n",
      "                   coef    std err          t      P>|t|      [0.025      0.975]\n",
      "--------------------------------------------------------------------------------\n",
      "const        -1.246e+06   8.37e+04    -14.885      0.000   -1.41e+06   -1.08e+06\n",
      "LotArea          2.3351      0.270      8.638      0.000       1.805       2.866\n",
      "OverallQual   1.461e+04    922.893     15.826      0.000    1.28e+04    1.64e+04\n",
      "YearBuilt      274.8441     39.289      6.995      0.000     197.740     351.948\n",
      "YearRemodAdd   351.7541     47.160      7.459      0.000     259.203     444.305\n",
      "GrLivArea       50.0207      3.505     14.273      0.000      43.143      56.898\n",
      "TotRmsAbvGrd -4043.7801    917.613     -4.407      0.000   -5844.567   -2242.993\n",
      "Fireplaces    6704.1680   1270.709      5.276      0.000    4210.439    9197.897\n",
      "GarageArea      34.7430      5.117      6.790      0.000      24.701      44.785\n",
      "==============================================================================\n",
      "Omnibus:                       74.207   Durbin-Watson:                   2.063\n",
      "Prob(Omnibus):                  0.000   Jarque-Bera (JB):              139.143\n",
      "Skew:                           0.516   Prob(JB):                     6.10e-31\n",
      "Kurtosis:                       4.557   Cond. No.                     1.26e+06\n",
      "==============================================================================\n",
      "\n",
      "Notes:\n",
      "[1] Standard Errors assume that the covariance matrix of the errors is correctly specified.\n",
      "[2] The condition number is large, 1.26e+06. This might indicate that there are\n",
      "strong multicollinearity or other numerical problems.\n"
     ]
    }
   ],
   "source": [
    "show_model_info()"
   ]
  },
  {
   "cell_type": "code",
   "execution_count": 3,
   "metadata": {},
   "outputs": [
    {
     "name": "stdout",
     "output_type": "stream",
     "text": [
      "MSE: 417187424.4704485\n",
      "RMSE: 20425.16644902676\n",
      "R2: 0.7994402363548058\n"
     ]
    },
    {
     "data": {
      "image/png": "[encoded data removed]",
      "text/plain": [
       "<Figure size 432x288 with 1 Axes>"
      ]
     },
     "metadata": {
      "needs_background": "light"
     },
     "output_type": "display_data"
    }
   ],
   "source": [
    "show_model_evaluation()"
   ]
  },
  {
   "cell_type": "markdown",
   "metadata": {},
   "source": [
    "**OverallQual: Rates the overall material and finish of the house**\n",
    "- 8\tVery Good\n",
    "- 7\tGood\n",
    "- 6\tAbove Average\n",
    "- 5\tAverage\n",
    "- 4\tBelow Average\n",
    "    \n",
    "**TotRmsAbvGrd: Total rooms above grade (does not include bathrooms)**\n",
    "\n",
    "**LotArea: Lot size in square feet**"
   ]
  },
  {
   "cell_type": "code",
   "execution_count": 4,
   "metadata": {},
   "outputs": [
    {
     "data": {
      "application/vnd.jupyter.widget-view+json": {
       "model_id": "065bae3f2d8843efb153b07e95f1082f",
       "version_major": 2,
       "version_minor": 0
      },
      "text/plain": [
       "interactive(children=(IntSlider(value=3182, description='LotArea', max=17140, min=3182), IntSlider(value=4, de…"
      ]
     },
     "metadata": {},
     "output_type": "display_data"
    }
   ],
   "source": [
    "predict_house_price()"
   ]
  },
  {
   "cell_type": "code",
   "execution_count": null,
   "metadata": {},
   "outputs": [],
   "source": []
  }
 ],
 "metadata": {
  "kernelspec": {
   "display_name": "Python 3",
   "language": "python",
   "name": "python3"
  },
  "language_info": {
   "codemirror_mode": {
    "name": "ipython",
    "version": 3
   },
   "file_extension": ".py",
   "mimetype": "text/x-python",
   "name": "python",
   "nbconvert_exporter": "python",
   "pygments_lexer": "ipython3",
   "version": "3.8.5"
  },
  "toc": {
   "base_numbering": 1,
   "nav_menu": {},
   "number_sections": true,
   "sideBar": true,
   "skip_h1_title": true,
   "title_cell": "Table of Contents",
   "title_sidebar": "Contents",
   "toc_cell": true,
   "toc_position": {},
   "toc_section_display": true,
   "toc_window_display": false
  }
 },
 "nbformat": 4,
 "nbformat_minor": 4
}
