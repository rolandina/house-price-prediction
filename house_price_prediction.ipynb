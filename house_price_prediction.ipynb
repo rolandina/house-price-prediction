{
 "cells": [
  {
   "cell_type": "markdown",
   "metadata": {},
   "source": [
    "# House Price Prediction"
   ]
  },
  {
   "cell_type": "code",
   "execution_count": 1,
   "metadata": {},
   "outputs": [],
   "source": [
    "from viz import View\n",
    "v = View()"
   ]
  },
  {
   "cell_type": "code",
   "execution_count": 2,
   "metadata": {},
   "outputs": [
    {
     "data": {
      "application/vnd.jupyter.widget-view+json": {
       "model_id": "0b0fb80a63b247edbccff5b8101aadb0",
       "version_major": 2,
       "version_minor": 0
      },
      "text/plain": [
       "interactive(children=(Dropdown(description='mod_type', options=(0, 1, 2), value=0), IntSlider(value=1476, desc…"
      ]
     },
     "metadata": {},
     "output_type": "display_data"
    }
   ],
   "source": [
    "v.display_house_price_prediction()"
   ]
  },
  {
   "cell_type": "code",
   "execution_count": 3,
   "metadata": {
    "scrolled": false
   },
   "outputs": [
    {
     "data": {
      "application/vnd.jupyter.widget-view+json": {
       "model_id": "6273185f9b6c46e2b4e1d4c2ee0148c9",
       "version_major": 2,
       "version_minor": 0
      },
      "text/plain": [
       "interactive(children=(Dropdown(description='mod_type', options=(0, 1, 2), value=0), Output()), _dom_classes=('…"
      ]
     },
     "metadata": {},
     "output_type": "display_data"
    }
   ],
   "source": [
    "v.display_model()"
   ]
  },
  {
   "cell_type": "code",
   "execution_count": 4,
   "metadata": {},
   "outputs": [
    {
     "name": "stdout",
     "output_type": "stream",
     "text": [
      "                            OLS Regression Results                            \n",
      "==============================================================================\n",
      "Dep. Variable:              SalePrice   R-squared:                       0.796\n",
      "Model:                            OLS   Adj. R-squared:                  0.794\n",
      "Method:                 Least Squares   F-statistic:                     466.5\n",
      "Date:                Fri, 21 May 2021   Prob (F-statistic):          9.88e-324\n",
      "Time:                        22:21:55   Log-Likelihood:                -10978.\n",
      "No. Observations:                 965   AIC:                         2.197e+04\n",
      "Df Residuals:                     956   BIC:                         2.202e+04\n",
      "Df Model:                           8                                         \n",
      "Covariance Type:            nonrobust                                         \n",
      "================================================================================\n",
      "                   coef    std err          t      P>|t|      [0.025      0.975]\n",
      "--------------------------------------------------------------------------------\n",
      "const        -1.242e+06   8.44e+04    -14.728      0.000   -1.41e+06   -1.08e+06\n",
      "LotArea          2.3417      0.276      8.494      0.000       1.801       2.883\n",
      "OverallQual   1.487e+04    914.011     16.271      0.000    1.31e+04    1.67e+04\n",
      "YearBuilt      267.7170     39.307      6.811      0.000     190.579     344.855\n",
      "YearRemodAdd   356.4911     46.567      7.655      0.000     265.106     447.876\n",
      "GrLivArea       50.6515      3.493     14.500      0.000      43.796      57.507\n",
      "TotRmsAbvGrd -4132.6665    870.467     -4.748      0.000   -5840.913   -2424.420\n",
      "Fireplaces    6351.7373   1247.973      5.090      0.000    3902.655    8800.820\n",
      "GarageArea      32.7892      5.065      6.473      0.000      22.849      42.730\n",
      "==============================================================================\n",
      "Omnibus:                       73.259   Durbin-Watson:                   2.065\n",
      "Prob(Omnibus):                  0.000   Jarque-Bera (JB):              135.500\n",
      "Skew:                           0.512   Prob(JB):                     3.77e-30\n",
      "Kurtosis:                       4.524   Cond. No.                     1.29e+06\n",
      "==============================================================================\n",
      "\n",
      "Notes:\n",
      "[1] Standard Errors assume that the covariance matrix of the errors is correctly specified.\n",
      "[2] The condition number is large, 1.29e+06. This might indicate that there are\n",
      "strong multicollinearity or other numerical problems.\n"
     ]
    }
   ],
   "source": [
    "v.show_stats_model_info()"
   ]
  },
  {
   "cell_type": "markdown",
   "metadata": {},
   "source": [
    "**OverallQual: Rates the overall material and finish of the house**\n",
    "- 8\tVery Good\n",
    "- 7\tGood\n",
    "- 6\tAbove Average\n",
    "- 5\tAverage\n",
    "- 4\tBelow Average\n",
    "    \n",
    "**TotRmsAbvGrd: Total rooms above grade (does not include bathrooms)**\n",
    "\n",
    "**LotArea: Lot size in square feet**"
   ]
  },
  {
   "cell_type": "code",
   "execution_count": 5,
   "metadata": {},
   "outputs": [
    {
     "name": "stdout",
     "output_type": "stream",
     "text": [
      "Model parameters info: \n",
      " {'copy_X': True, 'fit_intercept': True, 'n_jobs': None, 'normalize': False}\n",
      "Model score is 0.799185410524369\n"
     ]
    }
   ],
   "source": [
    "v.show_skit_model_info()"
   ]
  },
  {
   "cell_type": "code",
   "execution_count": 5,
   "metadata": {},
   "outputs": [],
   "source": [
    "#list_options()\n",
    "\n",
    "import types\n",
    "import viz\n",
    "\n",
    "func = [getattr(viz, a) for a in dir(viz)\n",
    "  if isinstance(getattr(viz, a), types.FunctionType)]\n",
    "for f in func:\n",
    "    print(str(f).split(' ')[1].replace('_', ' '))"
   ]
  }
 ],
 "metadata": {
  "kernelspec": {
   "display_name": "Python 3",
   "language": "python",
   "name": "python3"
  },
  "language_info": {
   "codemirror_mode": {
    "name": "ipython",
    "version": 3
   },
   "file_extension": ".py",
   "mimetype": "text/x-python",
   "name": "python",
   "nbconvert_exporter": "python",
   "pygments_lexer": "ipython3",
   "version": "3.8.5"
  },
  "toc": {
   "base_numbering": 1,
   "nav_menu": {},
   "number_sections": true,
   "sideBar": true,
   "skip_h1_title": true,
   "title_cell": "Table of Contents",
   "title_sidebar": "Contents",
   "toc_cell": false,
   "toc_position": {},
   "toc_section_display": true,
   "toc_window_display": true
  }
 },
 "nbformat": 4,
 "nbformat_minor": 4
}
